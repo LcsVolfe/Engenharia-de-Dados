{
 "cells": [
  {
   "cell_type": "code",
   "execution_count": 2,
   "outputs": [],
   "source": [
    "import pyspark.sql.functions as F\n",
    "from pyspark.sql.types import *\n",
    "from pyspark.sql import SparkSession\n",
    "import matplotlib.pyplot as plt\n",
    "%matplotlib inline\n",
    "\n",
    "spark = SparkSession.builder.appName('Spark').getOrCreate()\n"
   ],
   "metadata": {
    "collapsed": false,
    "pycharm": {
     "name": "#%%\n"
    }
   }
  },
  {
   "cell_type": "code",
   "execution_count": 3,
   "outputs": [],
   "source": [
    "#   CARREGAR E CONVERTER TIPO COLUNA\n",
    "schema = StructType([\n",
    "    StructField('id_candidate_seq', StringType(), True),\n",
    "    StructField('id_candidate_num', IntegerType(), True),\n",
    "    StructField('cat_candidate_name', StringType(), True),\n",
    "    StructField('cat_state', StringType(), True),\n",
    "    StructField('cat_party', StringType(), True),\n",
    "    StructField('cat_coalition', StringType(), True),\n",
    "    StructField('cat_composition', StringType(), True),\n",
    "    StructField('cat_eletion_result', StringType(), True),\n",
    "    StructField('num_turn', IntegerType(), True),\n",
    "    StructField('num_votes', IntegerType(), True)\n",
    "])\n",
    "df_votacao_brasil_english = spark.read.format('csv').schema(schema).option('header', 'true').option('delimiter', ',').\\\n",
    "    load('votacao_brasil_english.csv')\n",
    "# df_votacao_brasil_english.show()\n",
    "\n",
    "schema2 = StructType([\n",
    "    StructField('Cd_Eleio', StringType(), True),\n",
    "    StructField('Desc_Eleio', StringType(), True),\n",
    "    StructField('Data_e_hora', StringType(), True),\n",
    "    StructField('CNPJ_Prestador_Conta', StringType(), True),\n",
    "    StructField('Sequencial_Candidato', StringType(), True),\n",
    "    StructField('UF', StringType(), True),\n",
    "    StructField('Sigla__Partido', StringType(), True),\n",
    "    StructField('Numero_candidato', IntegerType(), True),\n",
    "    StructField('Cargo', StringType(), True),\n",
    "    StructField('Nome_candidato', StringType(), True),\n",
    "    StructField('CPF_do_candidato', StringType(), True),\n",
    "    StructField('Numero_Recibo_Eleitoral', StringType(), True),\n",
    "    StructField('Numero_do_documento', StringType(), True),\n",
    "    StructField('CPF/CNPJ_do_doador', StringType(), True),\n",
    "    StructField('Nome_do_doador', StringType(), True),\n",
    "    StructField('Nome_do_doador_(Receita_Federal)', StringType(), True),\n",
    "    StructField('Sigla_UE_doador', StringType(), True),\n",
    "    StructField('Nmero_partido_doador', StringType(), True),\n",
    "    StructField('Nmero_candidato_doador', StringType(), True),\n",
    "    StructField('Cod_setor_econmico_do_doador', StringType(), True),\n",
    "    StructField('Setor_econmico_do_doador', StringType(), True),\n",
    "    StructField('Data_da_receita', StringType(), True),\n",
    "    StructField('Valor_receita', StringType(), True),\n",
    "    StructField('Tipo_receita', StringType(), True),\n",
    "    StructField('Fonte_recurso', StringType(), True),\n",
    "    StructField('Especie_recurso', StringType(), True),\n",
    "    StructField('Descricao_da_receita', StringType(), True),\n",
    "    StructField('CPF/CNPJ_do_doador_originrio', StringType(), True),\n",
    "    StructField('Nome_do_doador_originrio', StringType(), True),\n",
    "    StructField('Tipo_doador_originrio', StringType(), True),\n",
    "    StructField('Setor_econmico_do_doador_originrio', StringType(), True),\n",
    "    StructField('Nome_do_doador_originrio_(Receita_Federal)', StringType(), True),\n",
    "])\n",
    "df_receitas_partidos_2014_brasil = spark.read.format('csv').schema(schema2).option('header', 'true').option('delimiter', ';').\\\n",
    "    load('receitas_partidos_2014_brasil.txt')\n"
   ],
   "metadata": {
    "collapsed": false,
    "pycharm": {
     "name": "#%%\n"
    }
   }
  },
  {
   "cell_type": "code",
   "execution_count": 4,
   "outputs": [
    {
     "name": "stdout",
     "output_type": "stream",
     "text": [
      "+----------------+--------+---------+\n",
      "|id_candidate_num|num_turn|num_votes|\n",
      "+----------------+--------+---------+\n",
      "|              15|       1|       95|\n",
      "|             400|       1|     2605|\n",
      "|              45|       1|   116948|\n",
      "|              45|       2|   186658|\n",
      "|           12456|       1|      172|\n",
      "|            5555|       1|   218756|\n",
      "+----------------+--------+---------+\n",
      "\n"
     ]
    }
   ],
   "source": [
    "#   AGRUPAR SOMA DE VOTOS POR CANDIDATO E TURNO\n",
    "df_soma_votos = df_votacao_brasil_english.groupBy(df_votacao_brasil_english.id_candidate_num, df_votacao_brasil_english.num_turn).agg(F.sum(df_votacao_brasil_english.num_votes).alias('num_votes'))\n",
    "df_soma_votos.show()"
   ],
   "metadata": {
    "collapsed": false,
    "pycharm": {
     "name": "#%%\n"
    }
   }
  },
  {
   "cell_type": "code",
   "execution_count": 5,
   "outputs": [
    {
     "name": "stdout",
     "output_type": "stream",
     "text": [
      "+--------------------+----------------+--------------+--------+---------+\n",
      "|      Nome_candidato|id_candidate_num|Sigla__Partido|num_turn|num_votes|\n",
      "+--------------------+----------------+--------------+--------+---------+\n",
      "|ANTONIO JOSE DE M...|              15|          PMDB|       1|       95|\n",
      "|MARCONI FERREIRA ...|              45|          PSDB|       2|   186658|\n",
      "|JOSE MARIO SCHREINER|            5555|           PSD|       1|   218756|\n",
      "|MARCONI FERREIRA ...|              45|          PSDB|       1|   116948|\n",
      "|WILSON NUNES MARTINS|             400|           PSB|       1|     2605|\n",
      "+--------------------+----------------+--------------+--------+---------+\n",
      "\n"
     ]
    }
   ],
   "source": [
    "#   PEGAR NOME DO CANDIDATO, CARGO\n",
    "df_join_nome_cargo = df_soma_votos.join(df_receitas_partidos_2014_brasil, df_soma_votos.id_candidate_num == df_receitas_partidos_2014_brasil.Numero_candidato).select(['Nome_candidato', 'id_candidate_num', 'Sigla__Partido', 'num_turn', 'num_votes']).distinct()\n",
    "df_join_nome_cargo.show()\n"
   ],
   "metadata": {
    "collapsed": false,
    "pycharm": {
     "name": "#%%\n"
    }
   }
  },
  {
   "cell_type": "code",
   "execution_count": 6,
   "outputs": [
    {
     "name": "stdout",
     "output_type": "stream",
     "text": [
      "+--------------------+----------------+--------------+\n",
      "|      Nome_candidato|id_candidate_num|Sigla__Partido|\n",
      "+--------------------+----------------+--------------+\n",
      "|JOSE MARIO SCHREINER|            5555|           PSD|\n",
      "|ANTONIO JOSE DE M...|              15|          PMDB|\n",
      "|WILSON NUNES MARTINS|             400|           PSB|\n",
      "|MARCONI FERREIRA ...|              45|          PSDB|\n",
      "+--------------------+----------------+--------------+\n",
      "\n"
     ]
    }
   ],
   "source": [
    "#   LISTA DE CANDIDATOS PT-1\n",
    "df_join_nome_cargo.select(['Nome_candidato', 'id_candidate_num', 'Sigla__Partido']).distinct().show()\n"
   ],
   "metadata": {
    "collapsed": false,
    "pycharm": {
     "name": "#%%\n"
    }
   }
  },
  {
   "cell_type": "code",
   "execution_count": 7,
   "outputs": [
    {
     "name": "stdout",
     "output_type": "stream",
     "text": [
      "+--------------------+----------------+--------------+---------+\n",
      "|      Nome_candidato|id_candidate_num|Sigla__Partido|num_votes|\n",
      "+--------------------+----------------+--------------+---------+\n",
      "|ANTONIO JOSE DE M...|              15|          PMDB|       95|\n",
      "|JOSE MARIO SCHREINER|            5555|           PSD|   218756|\n",
      "|MARCONI FERREIRA ...|              45|          PSDB|   116948|\n",
      "|WILSON NUNES MARTINS|             400|           PSB|     2605|\n",
      "+--------------------+----------------+--------------+---------+\n",
      "\n",
      "+--------------------+----------------+--------------+---------+\n",
      "|      Nome_candidato|id_candidate_num|Sigla__Partido|num_votes|\n",
      "+--------------------+----------------+--------------+---------+\n",
      "|MARCONI FERREIRA ...|              45|          PSDB|   186658|\n",
      "+--------------------+----------------+--------------+---------+\n",
      "\n"
     ]
    }
   ],
   "source": [
    "# VOTACOES DO PRIMEIRO E SEGUNDO TURNO\n",
    "df_join_nome_cargo.select(['Nome_candidato', 'id_candidate_num', 'Sigla__Partido', 'num_votes']).where(df_join_nome_cargo.num_turn == 1).show()\n",
    "df_join_nome_cargo.select(['Nome_candidato', 'id_candidate_num', 'Sigla__Partido', 'num_votes']).where(df_join_nome_cargo.num_turn == 2).show()\n"
   ],
   "metadata": {
    "collapsed": false,
    "pycharm": {
     "name": "#%%\n"
    }
   }
  },
  {
   "cell_type": "code",
   "execution_count": 8,
   "outputs": [
    {
     "name": "stdout",
     "output_type": "stream",
     "text": [
      "+----------------+--------+---------+---------+\n",
      "|id_candidate_num|num_turn|cat_state|num_votes|\n",
      "+----------------+--------+---------+---------+\n",
      "|              45|       1|       SC|   116948|\n",
      "|              45|       2|       SC|   186658|\n",
      "|           12456|       1|       RS|      172|\n",
      "|             400|       1|       PR|     2605|\n",
      "|              15|       1|       SC|       47|\n",
      "|              15|       1|       PR|       48|\n",
      "|            5555|       1|       RS|   218756|\n",
      "+----------------+--------+---------+---------+\n",
      "\n"
     ]
    }
   ],
   "source": [
    "# SEPARAR CANDIDATOS POR ESTADO\n",
    "df_votacao_brasil_english.groupBy(df_votacao_brasil_english.id_candidate_num, df_votacao_brasil_english.num_turn, df_votacao_brasil_english.cat_state).agg(F.sum(df_votacao_brasil_english.num_votes).alias('num_votes')).show()\n"
   ],
   "metadata": {
    "collapsed": false,
    "pycharm": {
     "name": "#%%\n"
    }
   }
  },
  {
   "cell_type": "code",
   "execution_count": 9,
   "outputs": [
    {
     "name": "stdout",
     "output_type": "stream",
     "text": [
      "+----------------+--------+---------+---------+\n",
      "|id_candidate_num|num_turn|cat_state|num_votes|\n",
      "+----------------+--------+---------+---------+\n",
      "|           12456|       1|       RS|      172|\n",
      "|            5555|       1|       RS|   218756|\n",
      "+----------------+--------+---------+---------+\n",
      "\n"
     ]
    }
   ],
   "source": [
    "# SEPARAR CANDIDATOS RS\n",
    "df_rs = df_votacao_brasil_english.groupBy(df_votacao_brasil_english.id_candidate_num, df_votacao_brasil_english.num_turn, df_votacao_brasil_english.cat_state).agg(F.sum(df_votacao_brasil_english.num_votes).alias('num_votes')).where(df_votacao_brasil_english.cat_state == 'RS')\n",
    "total_rs = df_rs.agg(F.sum(df_rs.num_votes).alias('num_votes')).first().num_votes\n",
    "df_rs.show()"
   ],
   "metadata": {
    "collapsed": false,
    "pycharm": {
     "name": "#%%\n"
    }
   }
  },
  {
   "cell_type": "code",
   "execution_count": 9,
   "outputs": [],
   "source": [],
   "metadata": {
    "collapsed": false,
    "pycharm": {
     "name": "#%%\n"
    }
   }
  },
  {
   "cell_type": "code",
   "execution_count": 10,
   "outputs": [],
   "source": [
    "# ADICIONAR COLUNA DE PERCENTUAL\n",
    "df_percentual = df_rs.withColumn('Percentual', F.lit((df_rs.num_votes * 100) / total_rs))\n",
    "\n"
   ],
   "metadata": {
    "collapsed": false,
    "pycharm": {
     "name": "#%%\n"
    }
   }
  },
  {
   "cell_type": "code",
   "execution_count": 11,
   "outputs": [
    {
     "name": "stdout",
     "output_type": "stream",
     "text": [
      "+----------------+--------+---------+---------+-------------------+\n",
      "|id_candidate_num|num_turn|cat_state|num_votes|         Percentual|\n",
      "+----------------+--------+---------+---------+-------------------+\n",
      "|           12456|       1|       RS|      172|0.07856464225681503|\n",
      "|            5555|       1|       RS|   218756|  99.92143535774318|\n",
      "+----------------+--------+---------+---------+-------------------+\n",
      "\n"
     ]
    }
   ],
   "source": [
    "df_percentual.show()"
   ],
   "metadata": {
    "collapsed": false,
    "pycharm": {
     "name": "#%%\n"
    }
   }
  },
  {
   "cell_type": "code",
   "execution_count": 12,
   "outputs": [
    {
     "name": "stdout",
     "output_type": "stream",
     "text": [
      "root\n",
      " |-- id_candidate_num: integer (nullable = true)\n",
      " |-- num_turn: integer (nullable = true)\n",
      " |-- cat_state: string (nullable = true)\n",
      " |-- num_votes: long (nullable = true)\n",
      " |-- Percentual: double (nullable = true)\n",
      "\n"
     ]
    }
   ],
   "source": [
    "df_percentual.printSchema()"
   ],
   "metadata": {
    "collapsed": false,
    "pycharm": {
     "name": "#%%\n"
    }
   }
  },
  {
   "cell_type": "code",
   "execution_count": 13,
   "outputs": [],
   "source": [
    "# FUNCAO DE ROUND\n",
    "udf_funcao = F.udf(lambda  x : round(x, 2), DoubleType())\n",
    "df_funcao_round = df_percentual.select(\n",
    "    df_percentual.id_candidate_num,\n",
    "    df_percentual.num_turn,\n",
    "    df_percentual.cat_state,\n",
    "    df_percentual.num_votes,\n",
    "    udf_funcao(df_percentual.Percentual).alias('Percentual')\n",
    ")\n"
   ],
   "metadata": {
    "collapsed": false,
    "pycharm": {
     "name": "#%%\n"
    }
   }
  },
  {
   "cell_type": "code",
   "execution_count": 14,
   "outputs": [
    {
     "name": "stdout",
     "output_type": "stream",
     "text": [
      "+----------------+--------+---------+---------+----------+\n",
      "|id_candidate_num|num_turn|cat_state|num_votes|Percentual|\n",
      "+----------------+--------+---------+---------+----------+\n",
      "|           12456|       1|       RS|      172|      0.08|\n",
      "|            5555|       1|       RS|   218756|     99.92|\n",
      "+----------------+--------+---------+---------+----------+\n",
      "\n"
     ]
    }
   ],
   "source": [
    "df_funcao_round.show()"
   ],
   "metadata": {
    "collapsed": false,
    "pycharm": {
     "name": "#%%\n"
    }
   }
  },
  {
   "cell_type": "code",
   "execution_count": 19,
   "outputs": [
    {
     "data": {
      "text/plain": "Text(0.5, 1.0, 'Titulo')"
     },
     "execution_count": 19,
     "metadata": {},
     "output_type": "execute_result"
    },
    {
     "data": {
      "text/plain": "<Figure size 432x288 with 1 Axes>",
      "image/png": "[encoded data removed]"
     },
     "metadata": {
      "needs_background": "light"
     },
     "output_type": "display_data"
    }
   ],
   "source": [
    "plt.plot([1,total_rs])\n",
    "plt.title('Titulo')"
   ],
   "metadata": {
    "collapsed": false,
    "pycharm": {
     "name": "#%%\n"
    }
   }
  },
  {
   "cell_type": "code",
   "execution_count": 21,
   "outputs": [
    {
     "data": {
      "text/plain": "Text(0.5, 1.0, 'Titulo')"
     },
     "execution_count": 21,
     "metadata": {},
     "output_type": "execute_result"
    },
    {
     "data": {
      "text/plain": "<Figure size 720x432 with 1 Axes>",
      "image/png": "[encoded data removed]"
     },
     "metadata": {
      "needs_background": "light"
     },
     "output_type": "display_data"
    }
   ],
   "source": [
    "fig = plt.figure(figsize=(10,6))\n",
    "eixo = fig.add_axes([0,0,1,1])\n",
    "eixo.plot()\n",
    "eixo.set_title('Titulo')"
   ],
   "metadata": {
    "collapsed": false,
    "pycharm": {
     "name": "#%%\n"
    }
   }
  }
 ],
 "metadata": {
  "kernelspec": {
   "display_name": "Python 3",
   "language": "python",
   "name": "python3"
  },
  "language_info": {
   "codemirror_mode": {
    "name": "ipython",
    "version": 2
   },
   "file_extension": ".py",
   "mimetype": "text/x-python",
   "name": "python",
   "nbconvert_exporter": "python",
   "pygments_lexer": "ipython2",
   "version": "2.7.6"
  }
 },
 "nbformat": 4,
 "nbformat_minor": 0
}